{
  "nbformat": 4,
  "nbformat_minor": 0,
  "metadata": {
    "colab": {
      "name": "Copy of MyFirstColabNotebook",
      "provenance": [],
      "authorship_tag": "ABX9TyNLJyYe/Cf/cvW1A2swncRV",
      "include_colab_link": true
    },
    "kernelspec": {
      "name": "python3",
      "display_name": "Python 3"
    }
  },
  "cells": [
    {
      "cell_type": "markdown",
      "metadata": {
        "id": "view-in-github",
        "colab_type": "text"
      },
      "source": [
        "<a href=\"https://colab.research.google.com/github/MrMFN/MyFirstColabNotebook/blob/master/Copy_of_MyFirstColabNotebook.ipynb\" target=\"_parent\"><img src=\"https://colab.research.google.com/assets/colab-badge.svg\" alt=\"Open In Colab\"/></a>"
      ]
    },
    {
      "cell_type": "code",
      "metadata": {
        "id": "6yGtL1HX3l-_",
        "colab_type": "code",
        "colab": {
          "base_uri": "https://localhost:8080/",
          "height": 34
        },
        "outputId": "939504dd-b340-4089-ac7c-05c346cefa2f"
      },
      "source": [
        " import time\n",
        "print(time.ctime())"
      ],
      "execution_count": null,
      "outputs": [
        {
          "output_type": "stream",
          "text": [
            "Fri Jul 10 10:14:42 2020\n"
          ],
          "name": "stdout"
        }
      ]
    },
    {
      "cell_type": "code",
      "metadata": {
        "id": "cmssIfhlNM18",
        "colab_type": "code",
        "colab": {
          "base_uri": "https://localhost:8080/",
          "height": 34
        },
        "outputId": "9f68f725-1d94-404c-ff6e-5d90e6d57f9b"
      },
      "source": [
        " time.sleep(5)\n",
        "print (time.ctime())"
      ],
      "execution_count": null,
      "outputs": [
        {
          "output_type": "stream",
          "text": [
            "Fri Jul 10 10:14:47 2020\n"
          ],
          "name": "stdout"
        }
      ]
    },
    {
      "cell_type": "markdown",
      "metadata": {
        "id": "yc3pf5oMPxP0",
        "colab_type": "text"
      },
      "source": [
        " This is **bold**.This is *italic*.\n",
        "This is ~strikethrough~."
      ]
    },
    {
      "cell_type": "markdown",
      "metadata": {
        "id": "Essi8M71Q05G",
        "colab_type": "text"
      },
      "source": [
        "$\\sqrt{3x-1}+(1+x)^2$"
      ]
    },
    {
      "cell_type": "markdown",
      "metadata": {
        "id": "K-jKUC8_SJvl",
        "colab_type": "text"
      },
      "source": [
        "$e^x=\\sum_{i=0}^\\infty\\frac{1}{i!}x^i$"
      ]
    },
    {
      "cell_type": "markdown",
      "metadata": {
        "id": "EAA8Pbx-Y8sM",
        "colab_type": "text"
      },
      "source": [
        "$A_{m,n}=\\begin{pmatrix}\n",
        "a_{1,1} > a_{1,2} > \\cdots > a_{1,n}\\\\\n",
        "a_{2,1} > a_{2,2} > \\cdots > a_{2,n}\\\\\n",
        "\\vdots > \\vdots > \\ddots > \\vdots\\\\\n",
        "a_{m,1} > a_{m,2} > \\cdots > a_{m,n}\\\\\n",
        "\\end{pmatrix}$"
      ]
    },
    {
      "cell_type": "markdown",
      "metadata": {
        "id": "Bed9jdNobZWm",
        "colab_type": "text"
      },
      "source": [
        " $3x_1+6x_2+x_3=<28$"
      ]
    },
    {
      "cell_type": "markdown",
      "metadata": {
        "id": "S3sKqP1KbxY_",
        "colab_type": "text"
      },
      "source": [
        "$u_i(t)=x_i(t)+\\beta(\\hat{x}(t)-x_i(t))+\\beta\\sum_{k=1}^{n_v}(x_{i1,k}(t)-x_{i2,k}(t))$"
      ]
    },
    {
      "cell_type": "markdown",
      "metadata": {
        "id": "Jfn-tvhudJcO",
        "colab_type": "text"
      },
      "source": [
        "$f(x_1,x_2)=20+e-20exp(-0.2\\sqrt{\\frac{1}{n}(x_1^2+x_2^2)})-exp(\\frac{1}{n}(cos(2\\pi x_1)+(cos(2\\pi x_2))$"
      ]
    },
    {
      "cell_type": "markdown",
      "metadata": {
        "id": "oosK-0j1ezY6",
        "colab_type": "text"
      },
      "source": [
        ""
      ]
    }
  ]
}